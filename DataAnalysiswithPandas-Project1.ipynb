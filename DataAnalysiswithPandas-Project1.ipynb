{
 "cells": [
  {
   "cell_type": "markdown",
   "id": "0c19b260-44db-4ff5-9fe3-c74e463bc8bb",
   "metadata": {},
   "source": [
    "# Data Analysis with Pandas - Project 1"
   ]
  },
  {
   "cell_type": "markdown",
   "id": "f179a190-228f-462f-ade0-580d5aefe696",
   "metadata": {},
   "source": [
    "Proyecto inspirado en Conocimientos de Pandas\n",
    "by **Profe: Oscar Yllan** \n",
    "**Tel: +52 81-2093-1925**"
   ]
  },
  {
   "cell_type": "code",
   "execution_count": 143,
   "id": "69d0caa5-1119-401f-9d26-ae1a51dbb5bc",
   "metadata": {},
   "outputs": [
    {
     "name": "stdout",
     "output_type": "stream",
     "text": [
      "Requirement already satisfied: pandas in c:\\users\\oscar\\anaconda3\\lib\\site-packages (2.2.2)\n",
      "Requirement already satisfied: numpy>=1.26.0 in c:\\users\\oscar\\anaconda3\\lib\\site-packages (from pandas) (1.26.4)\n",
      "Requirement already satisfied: python-dateutil>=2.8.2 in c:\\users\\oscar\\anaconda3\\lib\\site-packages (from pandas) (2.9.0.post0)\n",
      "Requirement already satisfied: pytz>=2020.1 in c:\\users\\oscar\\anaconda3\\lib\\site-packages (from pandas) (2024.1)\n",
      "Requirement already satisfied: tzdata>=2022.7 in c:\\users\\oscar\\anaconda3\\lib\\site-packages (from pandas) (2023.3)\n",
      "Requirement already satisfied: six>=1.5 in c:\\users\\oscar\\anaconda3\\lib\\site-packages (from python-dateutil>=2.8.2->pandas) (1.16.0)\n"
     ]
    }
   ],
   "source": [
    "!pip install pandas "
   ]
  },
  {
   "cell_type": "code",
   "execution_count": 144,
   "id": "5f4e1e3d-3109-4ab3-a7cf-f6bfa2327af5",
   "metadata": {},
   "outputs": [],
   "source": [
    "# We are importing the library of pandas\n",
    "# Vamos a importar la libreria de Pandas \n",
    "import pandas as pd"
   ]
  },
  {
   "cell_type": "code",
   "execution_count": 145,
   "id": "001e9f2c-b354-4cb2-b0be-e26db17e4e29",
   "metadata": {},
   "outputs": [
    {
     "data": {
      "text/html": [
       "<div>\n",
       "<style scoped>\n",
       "    .dataframe tbody tr th:only-of-type {\n",
       "        vertical-align: middle;\n",
       "    }\n",
       "\n",
       "    .dataframe tbody tr th {\n",
       "        vertical-align: top;\n",
       "    }\n",
       "\n",
       "    .dataframe thead th {\n",
       "        text-align: right;\n",
       "    }\n",
       "</style>\n",
       "<table border=\"1\" class=\"dataframe\">\n",
       "  <thead>\n",
       "    <tr style=\"text-align: right;\">\n",
       "      <th></th>\n",
       "      <th>Name</th>\n",
       "      <th>Marks</th>\n",
       "      <th>Gender</th>\n",
       "    </tr>\n",
       "  </thead>\n",
       "  <tbody>\n",
       "    <tr>\n",
       "      <th>0</th>\n",
       "      <td>Jaime</td>\n",
       "      <td>98</td>\n",
       "      <td>Male</td>\n",
       "    </tr>\n",
       "    <tr>\n",
       "      <th>1</th>\n",
       "      <td>Rebeca</td>\n",
       "      <td>99</td>\n",
       "      <td>Female</td>\n",
       "    </tr>\n",
       "    <tr>\n",
       "      <th>2</th>\n",
       "      <td>Regina</td>\n",
       "      <td>99</td>\n",
       "      <td>Female</td>\n",
       "    </tr>\n",
       "    <tr>\n",
       "      <th>3</th>\n",
       "      <td>Renata</td>\n",
       "      <td>100</td>\n",
       "      <td>Female</td>\n",
       "    </tr>\n",
       "    <tr>\n",
       "      <th>4</th>\n",
       "      <td>Omar</td>\n",
       "      <td>90</td>\n",
       "      <td>Male</td>\n",
       "    </tr>\n",
       "    <tr>\n",
       "      <th>5</th>\n",
       "      <td>Dorothy</td>\n",
       "      <td>82</td>\n",
       "      <td>Female</td>\n",
       "    </tr>\n",
       "    <tr>\n",
       "      <th>6</th>\n",
       "      <td>Elle</td>\n",
       "      <td>54</td>\n",
       "      <td>Female</td>\n",
       "    </tr>\n",
       "  </tbody>\n",
       "</table>\n",
       "</div>"
      ],
      "text/plain": [
       "      Name  Marks  Gender\n",
       "0    Jaime     98    Male\n",
       "1   Rebeca     99  Female\n",
       "2   Regina     99  Female\n",
       "3   Renata    100  Female\n",
       "4     Omar     90    Male\n",
       "5  Dorothy     82  Female\n",
       "6     Elle     54  Female"
      ]
     },
     "execution_count": 145,
     "metadata": {},
     "output_type": "execute_result"
    }
   ],
   "source": [
    "# We are creating a pandas Dataframe that is a type of Data Structure of Pandas from a Python dictionary\n",
    "# Vamos a crear un pandas DataFrame la cual es un tipo de estructura de datos de Pandas apartir de un diccionario de Python\n",
    "dict1= { 'Name': ['Jaime','Rebeca','Regina','Renata','Omar','Dorothy','Elle'],\n",
    "    'Marks': [98,99,99,100,90,82,54],\n",
    "        'Gender': ['Male','Female','Female','Female','Male','Female','Female']\n",
    "       }\n",
    "df1=pd.DataFrame(dict1)\n",
    "# Showing the Dataframe\n",
    "df1"
   ]
  },
  {
   "cell_type": "markdown",
   "id": "78848c56-f90f-441f-a792-c26994794864",
   "metadata": {},
   "source": [
    "## 1. Display Top 3 Rows of the Dataset"
   ]
  },
  {
   "cell_type": "code",
   "execution_count": 147,
   "id": "f4e96cff-8009-4caf-bbf0-b9da6a3a2f7b",
   "metadata": {},
   "outputs": [
    {
     "data": {
      "text/html": [
       "<div>\n",
       "<style scoped>\n",
       "    .dataframe tbody tr th:only-of-type {\n",
       "        vertical-align: middle;\n",
       "    }\n",
       "\n",
       "    .dataframe tbody tr th {\n",
       "        vertical-align: top;\n",
       "    }\n",
       "\n",
       "    .dataframe thead th {\n",
       "        text-align: right;\n",
       "    }\n",
       "</style>\n",
       "<table border=\"1\" class=\"dataframe\">\n",
       "  <thead>\n",
       "    <tr style=\"text-align: right;\">\n",
       "      <th></th>\n",
       "      <th>Name</th>\n",
       "      <th>Marks</th>\n",
       "      <th>Gender</th>\n",
       "    </tr>\n",
       "  </thead>\n",
       "  <tbody>\n",
       "    <tr>\n",
       "      <th>0</th>\n",
       "      <td>Jaime</td>\n",
       "      <td>98</td>\n",
       "      <td>Male</td>\n",
       "    </tr>\n",
       "    <tr>\n",
       "      <th>1</th>\n",
       "      <td>Rebeca</td>\n",
       "      <td>99</td>\n",
       "      <td>Female</td>\n",
       "    </tr>\n",
       "    <tr>\n",
       "      <th>2</th>\n",
       "      <td>Regina</td>\n",
       "      <td>99</td>\n",
       "      <td>Female</td>\n",
       "    </tr>\n",
       "  </tbody>\n",
       "</table>\n",
       "</div>"
      ],
      "text/plain": [
       "     Name  Marks  Gender\n",
       "0   Jaime     98    Male\n",
       "1  Rebeca     99  Female\n",
       "2  Regina     99  Female"
      ]
     },
     "execution_count": 147,
     "metadata": {},
     "output_type": "execute_result"
    }
   ],
   "source": [
    "# The method .head() gives us the top 5 rows of the Dataset and the argument inside can be the number of Rows to display\n",
    "# El metodo .head() nos da las 5 filas de arriba Y EL ARGUMENTO PODEMOS PONERLE CUANTAS FILAS\n",
    "df1.head(3)"
   ]
  },
  {
   "cell_type": "markdown",
   "id": "0ce65ef0-e49d-405b-97ce-4c4b36dd54d7",
   "metadata": {},
   "source": [
    "## Check Last 4 Rows of the DataSet"
   ]
  },
  {
   "cell_type": "code",
   "execution_count": 149,
   "id": "f71edce5-21c1-4656-a410-b4f3f898f092",
   "metadata": {},
   "outputs": [
    {
     "data": {
      "text/html": [
       "<div>\n",
       "<style scoped>\n",
       "    .dataframe tbody tr th:only-of-type {\n",
       "        vertical-align: middle;\n",
       "    }\n",
       "\n",
       "    .dataframe tbody tr th {\n",
       "        vertical-align: top;\n",
       "    }\n",
       "\n",
       "    .dataframe thead th {\n",
       "        text-align: right;\n",
       "    }\n",
       "</style>\n",
       "<table border=\"1\" class=\"dataframe\">\n",
       "  <thead>\n",
       "    <tr style=\"text-align: right;\">\n",
       "      <th></th>\n",
       "      <th>Name</th>\n",
       "      <th>Marks</th>\n",
       "      <th>Gender</th>\n",
       "    </tr>\n",
       "  </thead>\n",
       "  <tbody>\n",
       "    <tr>\n",
       "      <th>3</th>\n",
       "      <td>Renata</td>\n",
       "      <td>100</td>\n",
       "      <td>Female</td>\n",
       "    </tr>\n",
       "    <tr>\n",
       "      <th>4</th>\n",
       "      <td>Omar</td>\n",
       "      <td>90</td>\n",
       "      <td>Male</td>\n",
       "    </tr>\n",
       "    <tr>\n",
       "      <th>5</th>\n",
       "      <td>Dorothy</td>\n",
       "      <td>82</td>\n",
       "      <td>Female</td>\n",
       "    </tr>\n",
       "    <tr>\n",
       "      <th>6</th>\n",
       "      <td>Elle</td>\n",
       "      <td>54</td>\n",
       "      <td>Female</td>\n",
       "    </tr>\n",
       "  </tbody>\n",
       "</table>\n",
       "</div>"
      ],
      "text/plain": [
       "      Name  Marks  Gender\n",
       "3   Renata    100  Female\n",
       "4     Omar     90    Male\n",
       "5  Dorothy     82  Female\n",
       "6     Elle     54  Female"
      ]
     },
     "execution_count": 149,
     "metadata": {},
     "output_type": "execute_result"
    }
   ],
   "source": [
    "# Equivalently the method .tail() is the one that gives us the Bottom 5 rows of the Datframe and the argument can be used to indicate the number of Rows\n",
    "# De manera equivalente, el método .tail() es el que nos da las últimas 5 filas del DataFrame y se puede usar el argumento para indicar el número de filas\n",
    "\n",
    "df1.tail(4)"
   ]
  },
  {
   "cell_type": "markdown",
   "id": "8d9bece4-8e34-4310-b179-d070967a4f81",
   "metadata": {},
   "source": [
    "## 3. Find Shape of our DataSet (Number of Rows & Number of Columns)\r\n",
    "## 3. Encontrar la forma de nuestro conjunto de datos (Número de filas y número de columnas)\r\n"
   ]
  },
  {
   "cell_type": "code",
   "execution_count": 151,
   "id": "0d85fbd1-3ee4-4efd-9f7d-586d953b158f",
   "metadata": {},
   "outputs": [
    {
     "data": {
      "text/plain": [
       "(7, 3)"
      ]
     },
     "execution_count": 151,
     "metadata": {},
     "output_type": "execute_result"
    }
   ],
   "source": [
    "# The property of .shape gives us the number of rows and columns (the dimensions)\n",
    "# La propiedad .shape nos da el número de filas y columnas (las dimensiones)\n",
    "df1.shape"
   ]
  },
  {
   "cell_type": "markdown",
   "id": "b1a43dc9-bacf-4558-8a33-bda6eca99520",
   "metadata": {},
   "source": [
    "## 4. Get information About our Dataset Like total Number of Rows, Total Number of columns, Datatypes of each Column and Memory and Requirement\r\n",
    "## 4. Obtener información sobre nuestro conjunto de datos, como el número total de filas, número total de columnas, tipos de datos de cada columna y uso de memoria y requisitos\r\n"
   ]
  },
  {
   "cell_type": "code",
   "execution_count": 153,
   "id": "eb3585fe-37c6-445f-bf4a-a6486701a1d0",
   "metadata": {},
   "outputs": [
    {
     "name": "stdout",
     "output_type": "stream",
     "text": [
      "<class 'pandas.core.frame.DataFrame'>\n",
      "RangeIndex: 7 entries, 0 to 6\n",
      "Data columns (total 3 columns):\n",
      " #   Column  Non-Null Count  Dtype \n",
      "---  ------  --------------  ----- \n",
      " 0   Name    7 non-null      object\n",
      " 1   Marks   7 non-null      int64 \n",
      " 2   Gender  7 non-null      object\n",
      "dtypes: int64(1), object(2)\n",
      "memory usage: 300.0+ bytes\n"
     ]
    }
   ],
   "source": [
    "# With the method .info() we can get some of these important values and info\n",
    "# Con el método .info() podemos obtener algunos de estos valores e información importantes\n",
    "\n",
    "df1.info()"
   ]
  },
  {
   "cell_type": "markdown",
   "id": "095c17bf-4709-4b68-bee7-3bf508bf92b6",
   "metadata": {},
   "source": [
    "## 5. Check Null Values in the DataSet\r\n",
    "## 5. Verificar valores nulos en el conjunto de dato\r\n"
   ]
  },
  {
   "cell_type": "code",
   "execution_count": 155,
   "id": "6370a475-c7cd-4b60-8765-3b006f60247c",
   "metadata": {},
   "outputs": [
    {
     "data": {
      "text/html": [
       "<div>\n",
       "<style scoped>\n",
       "    .dataframe tbody tr th:only-of-type {\n",
       "        vertical-align: middle;\n",
       "    }\n",
       "\n",
       "    .dataframe tbody tr th {\n",
       "        vertical-align: top;\n",
       "    }\n",
       "\n",
       "    .dataframe thead th {\n",
       "        text-align: right;\n",
       "    }\n",
       "</style>\n",
       "<table border=\"1\" class=\"dataframe\">\n",
       "  <thead>\n",
       "    <tr style=\"text-align: right;\">\n",
       "      <th></th>\n",
       "      <th>Name</th>\n",
       "      <th>Marks</th>\n",
       "      <th>Gender</th>\n",
       "    </tr>\n",
       "  </thead>\n",
       "  <tbody>\n",
       "    <tr>\n",
       "      <th>0</th>\n",
       "      <td>False</td>\n",
       "      <td>False</td>\n",
       "      <td>False</td>\n",
       "    </tr>\n",
       "    <tr>\n",
       "      <th>1</th>\n",
       "      <td>False</td>\n",
       "      <td>False</td>\n",
       "      <td>False</td>\n",
       "    </tr>\n",
       "    <tr>\n",
       "      <th>2</th>\n",
       "      <td>False</td>\n",
       "      <td>False</td>\n",
       "      <td>False</td>\n",
       "    </tr>\n",
       "    <tr>\n",
       "      <th>3</th>\n",
       "      <td>False</td>\n",
       "      <td>False</td>\n",
       "      <td>False</td>\n",
       "    </tr>\n",
       "    <tr>\n",
       "      <th>4</th>\n",
       "      <td>False</td>\n",
       "      <td>False</td>\n",
       "      <td>False</td>\n",
       "    </tr>\n",
       "    <tr>\n",
       "      <th>5</th>\n",
       "      <td>False</td>\n",
       "      <td>False</td>\n",
       "      <td>False</td>\n",
       "    </tr>\n",
       "    <tr>\n",
       "      <th>6</th>\n",
       "      <td>False</td>\n",
       "      <td>False</td>\n",
       "      <td>False</td>\n",
       "    </tr>\n",
       "  </tbody>\n",
       "</table>\n",
       "</div>"
      ],
      "text/plain": [
       "    Name  Marks  Gender\n",
       "0  False  False   False\n",
       "1  False  False   False\n",
       "2  False  False   False\n",
       "3  False  False   False\n",
       "4  False  False   False\n",
       "5  False  False   False\n",
       "6  False  False   False"
      ]
     },
     "execution_count": 155,
     "metadata": {},
     "output_type": "execute_result"
    }
   ],
   "source": [
    "# Checking for null values in the DataFrame\n",
    "# Verificando valores nulos en el DataFrame\n",
    "\n",
    "df1.isnull()"
   ]
  },
  {
   "cell_type": "code",
   "execution_count": 156,
   "id": "ad2311a9-4a8e-40a5-a61c-ae2b51c3b12f",
   "metadata": {},
   "outputs": [
    {
     "data": {
      "text/plain": [
       "Name      0\n",
       "Marks     0\n",
       "Gender    0\n",
       "dtype: int64"
      ]
     },
     "execution_count": 156,
     "metadata": {},
     "output_type": "execute_result"
    }
   ],
   "source": [
    "# Adding the method .sum() can give us the sum of all values per column\n",
    "# Agregar el método .sum() nos puede dar la suma de todos los valores por columna\n",
    "\n",
    "df1.isnull().sum()"
   ]
  },
  {
   "cell_type": "markdown",
   "id": "f40ffc52-21c1-4115-ad1d-06350105793b",
   "metadata": {},
   "source": [
    "## 6. Get Overall Statistics About the Dataframe\r\n",
    "## 6. Obtener estadísticas generales sobre el DataFrame\r\n"
   ]
  },
  {
   "cell_type": "code",
   "execution_count": 158,
   "id": "f33644e3-cbee-4dad-8fe9-21b28ff4763f",
   "metadata": {},
   "outputs": [
    {
     "data": {
      "text/html": [
       "<div>\n",
       "<style scoped>\n",
       "    .dataframe tbody tr th:only-of-type {\n",
       "        vertical-align: middle;\n",
       "    }\n",
       "\n",
       "    .dataframe tbody tr th {\n",
       "        vertical-align: top;\n",
       "    }\n",
       "\n",
       "    .dataframe thead th {\n",
       "        text-align: right;\n",
       "    }\n",
       "</style>\n",
       "<table border=\"1\" class=\"dataframe\">\n",
       "  <thead>\n",
       "    <tr style=\"text-align: right;\">\n",
       "      <th></th>\n",
       "      <th>Marks</th>\n",
       "    </tr>\n",
       "  </thead>\n",
       "  <tbody>\n",
       "    <tr>\n",
       "      <th>count</th>\n",
       "      <td>7.000000</td>\n",
       "    </tr>\n",
       "    <tr>\n",
       "      <th>mean</th>\n",
       "      <td>88.857143</td>\n",
       "    </tr>\n",
       "    <tr>\n",
       "      <th>std</th>\n",
       "      <td>16.717541</td>\n",
       "    </tr>\n",
       "    <tr>\n",
       "      <th>min</th>\n",
       "      <td>54.000000</td>\n",
       "    </tr>\n",
       "    <tr>\n",
       "      <th>25%</th>\n",
       "      <td>86.000000</td>\n",
       "    </tr>\n",
       "    <tr>\n",
       "      <th>50%</th>\n",
       "      <td>98.000000</td>\n",
       "    </tr>\n",
       "    <tr>\n",
       "      <th>75%</th>\n",
       "      <td>99.000000</td>\n",
       "    </tr>\n",
       "    <tr>\n",
       "      <th>max</th>\n",
       "      <td>100.000000</td>\n",
       "    </tr>\n",
       "  </tbody>\n",
       "</table>\n",
       "</div>"
      ],
      "text/plain": [
       "            Marks\n",
       "count    7.000000\n",
       "mean    88.857143\n",
       "std     16.717541\n",
       "min     54.000000\n",
       "25%     86.000000\n",
       "50%     98.000000\n",
       "75%     99.000000\n",
       "max    100.000000"
      ]
     },
     "execution_count": 158,
     "metadata": {},
     "output_type": "execute_result"
    }
   ],
   "source": [
    "# With the method describe() we can get statistics from the columns with numerical values\n",
    "# Con el método describe() podemos obtener estadísticas de las columnas con valores numéricos\n",
    "\n",
    "df1.describe()"
   ]
  },
  {
   "cell_type": "code",
   "execution_count": 159,
   "id": "310a54d9-8d34-42a1-a0ba-4a6336b2814c",
   "metadata": {},
   "outputs": [
    {
     "data": {
      "text/html": [
       "<div>\n",
       "<style scoped>\n",
       "    .dataframe tbody tr th:only-of-type {\n",
       "        vertical-align: middle;\n",
       "    }\n",
       "\n",
       "    .dataframe tbody tr th {\n",
       "        vertical-align: top;\n",
       "    }\n",
       "\n",
       "    .dataframe thead th {\n",
       "        text-align: right;\n",
       "    }\n",
       "</style>\n",
       "<table border=\"1\" class=\"dataframe\">\n",
       "  <thead>\n",
       "    <tr style=\"text-align: right;\">\n",
       "      <th></th>\n",
       "      <th>Name</th>\n",
       "      <th>Marks</th>\n",
       "      <th>Gender</th>\n",
       "    </tr>\n",
       "  </thead>\n",
       "  <tbody>\n",
       "    <tr>\n",
       "      <th>count</th>\n",
       "      <td>7</td>\n",
       "      <td>7.000000</td>\n",
       "      <td>7</td>\n",
       "    </tr>\n",
       "    <tr>\n",
       "      <th>unique</th>\n",
       "      <td>7</td>\n",
       "      <td>NaN</td>\n",
       "      <td>2</td>\n",
       "    </tr>\n",
       "    <tr>\n",
       "      <th>top</th>\n",
       "      <td>Jaime</td>\n",
       "      <td>NaN</td>\n",
       "      <td>Female</td>\n",
       "    </tr>\n",
       "    <tr>\n",
       "      <th>freq</th>\n",
       "      <td>1</td>\n",
       "      <td>NaN</td>\n",
       "      <td>5</td>\n",
       "    </tr>\n",
       "    <tr>\n",
       "      <th>mean</th>\n",
       "      <td>NaN</td>\n",
       "      <td>88.857143</td>\n",
       "      <td>NaN</td>\n",
       "    </tr>\n",
       "    <tr>\n",
       "      <th>std</th>\n",
       "      <td>NaN</td>\n",
       "      <td>16.717541</td>\n",
       "      <td>NaN</td>\n",
       "    </tr>\n",
       "    <tr>\n",
       "      <th>min</th>\n",
       "      <td>NaN</td>\n",
       "      <td>54.000000</td>\n",
       "      <td>NaN</td>\n",
       "    </tr>\n",
       "    <tr>\n",
       "      <th>25%</th>\n",
       "      <td>NaN</td>\n",
       "      <td>86.000000</td>\n",
       "      <td>NaN</td>\n",
       "    </tr>\n",
       "    <tr>\n",
       "      <th>50%</th>\n",
       "      <td>NaN</td>\n",
       "      <td>98.000000</td>\n",
       "      <td>NaN</td>\n",
       "    </tr>\n",
       "    <tr>\n",
       "      <th>75%</th>\n",
       "      <td>NaN</td>\n",
       "      <td>99.000000</td>\n",
       "      <td>NaN</td>\n",
       "    </tr>\n",
       "    <tr>\n",
       "      <th>max</th>\n",
       "      <td>NaN</td>\n",
       "      <td>100.000000</td>\n",
       "      <td>NaN</td>\n",
       "    </tr>\n",
       "  </tbody>\n",
       "</table>\n",
       "</div>"
      ],
      "text/plain": [
       "         Name       Marks  Gender\n",
       "count       7    7.000000       7\n",
       "unique      7         NaN       2\n",
       "top     Jaime         NaN  Female\n",
       "freq        1         NaN       5\n",
       "mean      NaN   88.857143     NaN\n",
       "std       NaN   16.717541     NaN\n",
       "min       NaN   54.000000     NaN\n",
       "25%       NaN   86.000000     NaN\n",
       "50%       NaN   98.000000     NaN\n",
       "75%       NaN   99.000000     NaN\n",
       "max       NaN  100.000000     NaN"
      ]
     },
     "execution_count": 159,
     "metadata": {},
     "output_type": "execute_result"
    }
   ],
   "source": [
    "# If we want to include also the non-numerical columns, we can add the argument include='all'\n",
    "# Si queremos incluir también las columnas no numéricas, podemos agregar el argumento include='all'\n",
    "\n",
    "df1.describe(include='all')"
   ]
  },
  {
   "cell_type": "markdown",
   "id": "32604f73-d35a-449e-ad62-bca1666aa1f4",
   "metadata": {},
   "source": [
    "## 7. Find Unique values from the Gender Column\r\n",
    "## 7. Encontrar valores únicos en la columna Gender\r\n"
   ]
  },
  {
   "cell_type": "code",
   "execution_count": 161,
   "id": "e0b1d19b-e13f-4da6-b415-9e4b8f51e125",
   "metadata": {},
   "outputs": [
    {
     "data": {
      "text/plain": [
       "array(['Male', 'Female'], dtype=object)"
      ]
     },
     "execution_count": 161,
     "metadata": {},
     "output_type": "execute_result"
    }
   ],
   "source": [
    "# Displaying the unique values in the 'Gender' column\n",
    "# Mostrando los valores únicos en la columna 'Gender'\n",
    "df1['Gender'].unique()\n"
   ]
  },
  {
   "cell_type": "markdown",
   "id": "302dff93-e962-4bcc-97d0-58b7248b1015",
   "metadata": {},
   "source": [
    "## 8. Find the Number of Unique Values from the Gender Column\r\n",
    "## 8. Encontrar el número de valores únicos en la columna Gender\r\n"
   ]
  },
  {
   "cell_type": "code",
   "execution_count": 163,
   "id": "956ad3ad-3346-49fc-ac7e-f490d8b11637",
   "metadata": {},
   "outputs": [
    {
     "data": {
      "text/plain": [
       "2"
      ]
     },
     "execution_count": 163,
     "metadata": {},
     "output_type": "execute_result"
    }
   ],
   "source": [
    "# Finding the number of unique values in the 'Gender' column using len() and unique()\n",
    "# Encontrar el número de valores únicos en la columna 'Gender' utilizando len() y unique()\n",
    "len(df1['Gender'].unique())\n"
   ]
  },
  {
   "cell_type": "code",
   "execution_count": 164,
   "id": "85fa2984-ca90-4d16-808b-b3e889e4efe2",
   "metadata": {},
   "outputs": [
    {
     "data": {
      "text/plain": [
       "2"
      ]
     },
     "execution_count": 164,
     "metadata": {},
     "output_type": "execute_result"
    }
   ],
   "source": [
    "# Finding the number of unique values in the 'Gender' column using nunique()\n",
    "# Encontrar el número de valores únicos en la columna 'Gender' utilizando nunique()\n",
    "df1['Gender'].nunique()\n"
   ]
  },
  {
   "cell_type": "markdown",
   "id": "f45bc57d-fd5e-4ec5-ab71-7017bd22d376",
   "metadata": {},
   "source": [
    "## 9. Display Count of Unique Values in Gender Column\r\n",
    "## 9. Mostrar el conteo de valores únicos en la columna Gender\r\n"
   ]
  },
  {
   "cell_type": "code",
   "execution_count": 166,
   "id": "6095830f-90c0-41c8-9332-73155067d06e",
   "metadata": {},
   "outputs": [
    {
     "data": {
      "text/plain": [
       "Gender\n",
       "Female    5\n",
       "Male      2\n",
       "Name: count, dtype: int64"
      ]
     },
     "execution_count": 166,
     "metadata": {},
     "output_type": "execute_result"
    }
   ],
   "source": [
    "# Displaying the count of unique values in the 'Gender' column using value_counts()\n",
    "# Mostrando el conteo de valores únicos en la columna 'Gender' utilizando value_counts()\n",
    "df1['Gender'].value_counts()\n"
   ]
  },
  {
   "cell_type": "markdown",
   "id": "9c7ceb67-2869-421d-9bf7-5d8c27ab5ddd",
   "metadata": {},
   "source": [
    "## 10. Find Total Number of Students Having Marks Between 90 to 100 (Inclusive) Using Between Method\r\n",
    "## 10. Encontrar el número total de estudiantes con calificaciones entre 90 y 100 (inclusive) utilizando el método Between\r\n"
   ]
  },
  {
   "cell_type": "code",
   "execution_count": 168,
   "id": "5301b2a1-b003-4461-931d-31bfd25045b4",
   "metadata": {},
   "outputs": [
    {
     "data": {
      "text/plain": [
       "5"
      ]
     },
     "execution_count": 168,
     "metadata": {},
     "output_type": "execute_result"
    }
   ],
   "source": [
    "# Here we are using the between method in order to get the number of values in that range\n",
    "# Aquí estamos utilizando el método between para obtener el número de valores en ese rango\n",
    "\n",
    "df1['Marks'].between(90,100).sum()"
   ]
  },
  {
   "cell_type": "code",
   "execution_count": 169,
   "id": "af4cd7c4-b8c9-41c3-8dc0-74fd50a38125",
   "metadata": {},
   "outputs": [
    {
     "data": {
      "text/plain": [
       "5"
      ]
     },
     "execution_count": 169,
     "metadata": {},
     "output_type": "execute_result"
    }
   ],
   "source": [
    "# We can also use Boolean Masking and apply the len() function\n",
    "# También podemos usar enmascaramiento booleano y aplicar la función len()\n",
    "len(df1[(df1['Marks']>=90)&(df1['Marks']<=100)])"
   ]
  },
  {
   "cell_type": "markdown",
   "id": "5dca6aa2-f54c-4fd3-b168-2b7e3e9c3020",
   "metadata": {},
   "source": [
    "## 11. Find Average Marks\r\n",
    "## 11. Encontrar el promedio de las calificaciones\r\n"
   ]
  },
  {
   "cell_type": "code",
   "execution_count": 171,
   "id": "2e0dc77f-97ca-4f51-9b88-935e3ac4abd5",
   "metadata": {},
   "outputs": [
    {
     "data": {
      "text/plain": [
       "88.85714285714286"
      ]
     },
     "execution_count": 171,
     "metadata": {},
     "output_type": "execute_result"
    }
   ],
   "source": [
    "# Calculating the average (mean) of the 'Marks' column\n",
    "# Calculando el promedio (media) de la columna 'Marks'\n",
    "df1['Marks'].mean()\n"
   ]
  },
  {
   "cell_type": "markdown",
   "id": "be1f1d39-c1cb-427b-a1d2-231689198a2b",
   "metadata": {},
   "source": [
    "## 12. Apply Method\n",
    "\n",
    "## 12. Metodo Aplicar"
   ]
  },
  {
   "cell_type": "code",
   "execution_count": 173,
   "id": "4028eb27-dded-4745-b0f7-a4b52a24e1d8",
   "metadata": {},
   "outputs": [],
   "source": [
    "def marks(x):\n",
    "    return x/4"
   ]
  },
  {
   "cell_type": "code",
   "execution_count": 174,
   "id": "7a9cf66d-cffe-4ce0-9d81-3e18d0e31e06",
   "metadata": {},
   "outputs": [
    {
     "data": {
      "text/plain": [
       "0    24.50\n",
       "1    24.75\n",
       "2    24.75\n",
       "3    25.00\n",
       "4    22.50\n",
       "5    20.50\n",
       "6    13.50\n",
       "Name: Marks, dtype: float64"
      ]
     },
     "execution_count": 174,
     "metadata": {},
     "output_type": "execute_result"
    }
   ],
   "source": [
    "# Applying the 'marks' function to each value in the 'Marks' column using the apply() method\n",
    "# Aplicando la función 'marks' a cada valor en la columna 'Marks' utilizando el método apply()\n",
    "df1['Marks'].apply(marks)\n"
   ]
  },
  {
   "cell_type": "code",
   "execution_count": 175,
   "id": "115af3b5-f18f-414d-afcc-ed32f4a1aad4",
   "metadata": {},
   "outputs": [
    {
     "data": {
      "text/html": [
       "<div>\n",
       "<style scoped>\n",
       "    .dataframe tbody tr th:only-of-type {\n",
       "        vertical-align: middle;\n",
       "    }\n",
       "\n",
       "    .dataframe tbody tr th {\n",
       "        vertical-align: top;\n",
       "    }\n",
       "\n",
       "    .dataframe thead th {\n",
       "        text-align: right;\n",
       "    }\n",
       "</style>\n",
       "<table border=\"1\" class=\"dataframe\">\n",
       "  <thead>\n",
       "    <tr style=\"text-align: right;\">\n",
       "      <th></th>\n",
       "      <th>Name</th>\n",
       "      <th>Marks</th>\n",
       "      <th>Gender</th>\n",
       "      <th>FourthPartofMark</th>\n",
       "    </tr>\n",
       "  </thead>\n",
       "  <tbody>\n",
       "    <tr>\n",
       "      <th>0</th>\n",
       "      <td>Jaime</td>\n",
       "      <td>98</td>\n",
       "      <td>Male</td>\n",
       "      <td>24.50</td>\n",
       "    </tr>\n",
       "    <tr>\n",
       "      <th>1</th>\n",
       "      <td>Rebeca</td>\n",
       "      <td>99</td>\n",
       "      <td>Female</td>\n",
       "      <td>24.75</td>\n",
       "    </tr>\n",
       "    <tr>\n",
       "      <th>2</th>\n",
       "      <td>Regina</td>\n",
       "      <td>99</td>\n",
       "      <td>Female</td>\n",
       "      <td>24.75</td>\n",
       "    </tr>\n",
       "    <tr>\n",
       "      <th>3</th>\n",
       "      <td>Renata</td>\n",
       "      <td>100</td>\n",
       "      <td>Female</td>\n",
       "      <td>25.00</td>\n",
       "    </tr>\n",
       "    <tr>\n",
       "      <th>4</th>\n",
       "      <td>Omar</td>\n",
       "      <td>90</td>\n",
       "      <td>Male</td>\n",
       "      <td>22.50</td>\n",
       "    </tr>\n",
       "    <tr>\n",
       "      <th>5</th>\n",
       "      <td>Dorothy</td>\n",
       "      <td>82</td>\n",
       "      <td>Female</td>\n",
       "      <td>20.50</td>\n",
       "    </tr>\n",
       "    <tr>\n",
       "      <th>6</th>\n",
       "      <td>Elle</td>\n",
       "      <td>54</td>\n",
       "      <td>Female</td>\n",
       "      <td>13.50</td>\n",
       "    </tr>\n",
       "  </tbody>\n",
       "</table>\n",
       "</div>"
      ],
      "text/plain": [
       "      Name  Marks  Gender  FourthPartofMark\n",
       "0    Jaime     98    Male             24.50\n",
       "1   Rebeca     99  Female             24.75\n",
       "2   Regina     99  Female             24.75\n",
       "3   Renata    100  Female             25.00\n",
       "4     Omar     90    Male             22.50\n",
       "5  Dorothy     82  Female             20.50\n",
       "6     Elle     54  Female             13.50"
      ]
     },
     "execution_count": 175,
     "metadata": {},
     "output_type": "execute_result"
    }
   ],
   "source": [
    "df1['FourthPartofMark']=df1['Marks'].apply(marks)\n",
    "df1"
   ]
  },
  {
   "cell_type": "markdown",
   "id": "0153b415-b974-4e5d-b078-f781a8f7659b",
   "metadata": {},
   "source": [
    "## 13. Map Function\n",
    "\n",
    "## 13. Función Map"
   ]
  },
  {
   "cell_type": "code",
   "execution_count": 177,
   "id": "a2b3e85d-ae01-4f0b-8ca7-04ce1b8716c2",
   "metadata": {},
   "outputs": [
    {
     "data": {
      "text/plain": [
       "0    1\n",
       "1    0\n",
       "2    0\n",
       "3    0\n",
       "4    1\n",
       "5    0\n",
       "6    0\n",
       "Name: Gender, dtype: int64"
      ]
     },
     "execution_count": 177,
     "metadata": {},
     "output_type": "execute_result"
    }
   ],
   "source": [
    "# Mapping the 'Gender' column to numerical values: 'Male' to 1 and 'Female' to 0\n",
    "# Mapeando la columna 'Gender' a valores numéricos: 'Male' a 1 y 'Female' a 0\n",
    "df1['Gender'].map({'Male':1,'Female':0})\n"
   ]
  },
  {
   "cell_type": "markdown",
   "id": "bc98b1dd-5e2e-4f40-b87e-95f8d3520bb7",
   "metadata": {},
   "source": [
    "## 14. Drop the Column(s)\n",
    "\n",
    "## 14. Eliminar columna(s)"
   ]
  },
  {
   "cell_type": "code",
   "execution_count": 179,
   "id": "01145ad8-f309-4357-8bfa-d82807b4a26f",
   "metadata": {},
   "outputs": [
    {
     "data": {
      "text/html": [
       "<div>\n",
       "<style scoped>\n",
       "    .dataframe tbody tr th:only-of-type {\n",
       "        vertical-align: middle;\n",
       "    }\n",
       "\n",
       "    .dataframe tbody tr th {\n",
       "        vertical-align: top;\n",
       "    }\n",
       "\n",
       "    .dataframe thead th {\n",
       "        text-align: right;\n",
       "    }\n",
       "</style>\n",
       "<table border=\"1\" class=\"dataframe\">\n",
       "  <thead>\n",
       "    <tr style=\"text-align: right;\">\n",
       "      <th></th>\n",
       "      <th>Name</th>\n",
       "      <th>Marks</th>\n",
       "    </tr>\n",
       "  </thead>\n",
       "  <tbody>\n",
       "    <tr>\n",
       "      <th>0</th>\n",
       "      <td>Jaime</td>\n",
       "      <td>98</td>\n",
       "    </tr>\n",
       "    <tr>\n",
       "      <th>1</th>\n",
       "      <td>Rebeca</td>\n",
       "      <td>99</td>\n",
       "    </tr>\n",
       "    <tr>\n",
       "      <th>2</th>\n",
       "      <td>Regina</td>\n",
       "      <td>99</td>\n",
       "    </tr>\n",
       "    <tr>\n",
       "      <th>3</th>\n",
       "      <td>Renata</td>\n",
       "      <td>100</td>\n",
       "    </tr>\n",
       "    <tr>\n",
       "      <th>4</th>\n",
       "      <td>Omar</td>\n",
       "      <td>90</td>\n",
       "    </tr>\n",
       "    <tr>\n",
       "      <th>5</th>\n",
       "      <td>Dorothy</td>\n",
       "      <td>82</td>\n",
       "    </tr>\n",
       "    <tr>\n",
       "      <th>6</th>\n",
       "      <td>Elle</td>\n",
       "      <td>54</td>\n",
       "    </tr>\n",
       "  </tbody>\n",
       "</table>\n",
       "</div>"
      ],
      "text/plain": [
       "      Name  Marks\n",
       "0    Jaime     98\n",
       "1   Rebeca     99\n",
       "2   Regina     99\n",
       "3   Renata    100\n",
       "4     Omar     90\n",
       "5  Dorothy     82\n",
       "6     Elle     54"
      ]
     },
     "execution_count": 179,
     "metadata": {},
     "output_type": "execute_result"
    }
   ],
   "source": [
    "# We are going to eliminate the columns that we want\n",
    "# Vamos a eliminar las columnas que queramos\n",
    "df1.drop(['Gender', 'FourthPartofMark'],axis=1)"
   ]
  },
  {
   "cell_type": "markdown",
   "id": "79d8c2cf-7ae6-46db-b531-1eb43ab1396b",
   "metadata": {},
   "source": [
    "## 15. Print Name of the Columns\r\n",
    "## 15. Imprimir el nombre de las columnas\r\n"
   ]
  },
  {
   "cell_type": "code",
   "execution_count": 181,
   "id": "a6699c25-29b0-4b6f-b460-3582cab601ba",
   "metadata": {},
   "outputs": [
    {
     "data": {
      "text/plain": [
       "Index(['Name', 'Marks', 'Gender', 'FourthPartofMark'], dtype='object')"
      ]
     },
     "execution_count": 181,
     "metadata": {},
     "output_type": "execute_result"
    }
   ],
   "source": [
    "# Displaying the names of the columns in the DataFrame\n",
    "# Mostrando los nombres de las columnas en el DataFrame\n",
    "df1.columns\n"
   ]
  },
  {
   "cell_type": "markdown",
   "id": "40ac840f-ba53-4f95-9259-cf3678ee70ce",
   "metadata": {},
   "source": [
    "## 16. Display Name & Marks of the Female Students\r\n",
    "## 16. Mostrar el nombre y las calificaciones de las estudiantes femeninas\r\n"
   ]
  },
  {
   "cell_type": "code",
   "execution_count": 183,
   "id": "6dcb94fd-48e0-4896-b2e8-3a4765423999",
   "metadata": {},
   "outputs": [
    {
     "data": {
      "text/html": [
       "<div>\n",
       "<style scoped>\n",
       "    .dataframe tbody tr th:only-of-type {\n",
       "        vertical-align: middle;\n",
       "    }\n",
       "\n",
       "    .dataframe tbody tr th {\n",
       "        vertical-align: top;\n",
       "    }\n",
       "\n",
       "    .dataframe thead th {\n",
       "        text-align: right;\n",
       "    }\n",
       "</style>\n",
       "<table border=\"1\" class=\"dataframe\">\n",
       "  <thead>\n",
       "    <tr style=\"text-align: right;\">\n",
       "      <th></th>\n",
       "      <th>Name</th>\n",
       "      <th>Marks</th>\n",
       "    </tr>\n",
       "  </thead>\n",
       "  <tbody>\n",
       "    <tr>\n",
       "      <th>1</th>\n",
       "      <td>Rebeca</td>\n",
       "      <td>99</td>\n",
       "    </tr>\n",
       "    <tr>\n",
       "      <th>2</th>\n",
       "      <td>Regina</td>\n",
       "      <td>99</td>\n",
       "    </tr>\n",
       "    <tr>\n",
       "      <th>3</th>\n",
       "      <td>Renata</td>\n",
       "      <td>100</td>\n",
       "    </tr>\n",
       "    <tr>\n",
       "      <th>5</th>\n",
       "      <td>Dorothy</td>\n",
       "      <td>82</td>\n",
       "    </tr>\n",
       "    <tr>\n",
       "      <th>6</th>\n",
       "      <td>Elle</td>\n",
       "      <td>54</td>\n",
       "    </tr>\n",
       "  </tbody>\n",
       "</table>\n",
       "</div>"
      ],
      "text/plain": [
       "      Name  Marks\n",
       "1   Rebeca     99\n",
       "2   Regina     99\n",
       "3   Renata    100\n",
       "5  Dorothy     82\n",
       "6     Elle     54"
      ]
     },
     "execution_count": 183,
     "metadata": {},
     "output_type": "execute_result"
    }
   ],
   "source": [
    "# Filtering the DataFrame to display the 'Name' and 'Marks' of female students\n",
    "# Filtrando el DataFrame para mostrar el 'Nombre' y las 'Calificaciones' de las estudiantes femeninas\n",
    "df1[(df1['Gender']=='Female')][['Name','Marks']]\n"
   ]
  },
  {
   "cell_type": "markdown",
   "id": "7393bdcf-0e04-4292-a467-93ba33730e89",
   "metadata": {},
   "source": [
    "## 17. Sort the DataFrame as per the Marks Column\r\n",
    "## 17. Ordenar el DataFrame según la columna de calificaciones (Marks)\r\n"
   ]
  },
  {
   "cell_type": "code",
   "execution_count": 185,
   "id": "b03a518b-1049-4552-b61a-7795eebdd942",
   "metadata": {},
   "outputs": [
    {
     "data": {
      "text/html": [
       "<div>\n",
       "<style scoped>\n",
       "    .dataframe tbody tr th:only-of-type {\n",
       "        vertical-align: middle;\n",
       "    }\n",
       "\n",
       "    .dataframe tbody tr th {\n",
       "        vertical-align: top;\n",
       "    }\n",
       "\n",
       "    .dataframe thead th {\n",
       "        text-align: right;\n",
       "    }\n",
       "</style>\n",
       "<table border=\"1\" class=\"dataframe\">\n",
       "  <thead>\n",
       "    <tr style=\"text-align: right;\">\n",
       "      <th></th>\n",
       "      <th>Name</th>\n",
       "      <th>Marks</th>\n",
       "      <th>Gender</th>\n",
       "      <th>FourthPartofMark</th>\n",
       "    </tr>\n",
       "  </thead>\n",
       "  <tbody>\n",
       "    <tr>\n",
       "      <th>6</th>\n",
       "      <td>Elle</td>\n",
       "      <td>54</td>\n",
       "      <td>Female</td>\n",
       "      <td>13.50</td>\n",
       "    </tr>\n",
       "    <tr>\n",
       "      <th>5</th>\n",
       "      <td>Dorothy</td>\n",
       "      <td>82</td>\n",
       "      <td>Female</td>\n",
       "      <td>20.50</td>\n",
       "    </tr>\n",
       "    <tr>\n",
       "      <th>4</th>\n",
       "      <td>Omar</td>\n",
       "      <td>90</td>\n",
       "      <td>Male</td>\n",
       "      <td>22.50</td>\n",
       "    </tr>\n",
       "    <tr>\n",
       "      <th>0</th>\n",
       "      <td>Jaime</td>\n",
       "      <td>98</td>\n",
       "      <td>Male</td>\n",
       "      <td>24.50</td>\n",
       "    </tr>\n",
       "    <tr>\n",
       "      <th>1</th>\n",
       "      <td>Rebeca</td>\n",
       "      <td>99</td>\n",
       "      <td>Female</td>\n",
       "      <td>24.75</td>\n",
       "    </tr>\n",
       "    <tr>\n",
       "      <th>2</th>\n",
       "      <td>Regina</td>\n",
       "      <td>99</td>\n",
       "      <td>Female</td>\n",
       "      <td>24.75</td>\n",
       "    </tr>\n",
       "    <tr>\n",
       "      <th>3</th>\n",
       "      <td>Renata</td>\n",
       "      <td>100</td>\n",
       "      <td>Female</td>\n",
       "      <td>25.00</td>\n",
       "    </tr>\n",
       "  </tbody>\n",
       "</table>\n",
       "</div>"
      ],
      "text/plain": [
       "      Name  Marks  Gender  FourthPartofMark\n",
       "6     Elle     54  Female             13.50\n",
       "5  Dorothy     82  Female             20.50\n",
       "4     Omar     90    Male             22.50\n",
       "0    Jaime     98    Male             24.50\n",
       "1   Rebeca     99  Female             24.75\n",
       "2   Regina     99  Female             24.75\n",
       "3   Renata    100  Female             25.00"
      ]
     },
     "execution_count": 185,
     "metadata": {},
     "output_type": "execute_result"
    }
   ],
   "source": [
    "# Sorting the DataFrame by the 'Marks' column in ascending order\n",
    "# Ordenando el DataFrame por la columna 'Marks' en orden ascendente\n",
    "df1.sort_values(by='Marks')\n"
   ]
  },
  {
   "cell_type": "code",
   "execution_count": 186,
   "id": "d1b13caa-3f4b-4d6f-8df7-9d610b0b4c0e",
   "metadata": {},
   "outputs": [
    {
     "data": {
      "text/html": [
       "<div>\n",
       "<style scoped>\n",
       "    .dataframe tbody tr th:only-of-type {\n",
       "        vertical-align: middle;\n",
       "    }\n",
       "\n",
       "    .dataframe tbody tr th {\n",
       "        vertical-align: top;\n",
       "    }\n",
       "\n",
       "    .dataframe thead th {\n",
       "        text-align: right;\n",
       "    }\n",
       "</style>\n",
       "<table border=\"1\" class=\"dataframe\">\n",
       "  <thead>\n",
       "    <tr style=\"text-align: right;\">\n",
       "      <th></th>\n",
       "      <th>Name</th>\n",
       "      <th>Marks</th>\n",
       "      <th>Gender</th>\n",
       "      <th>FourthPartofMark</th>\n",
       "    </tr>\n",
       "  </thead>\n",
       "  <tbody>\n",
       "    <tr>\n",
       "      <th>3</th>\n",
       "      <td>Renata</td>\n",
       "      <td>100</td>\n",
       "      <td>Female</td>\n",
       "      <td>25.00</td>\n",
       "    </tr>\n",
       "    <tr>\n",
       "      <th>1</th>\n",
       "      <td>Rebeca</td>\n",
       "      <td>99</td>\n",
       "      <td>Female</td>\n",
       "      <td>24.75</td>\n",
       "    </tr>\n",
       "    <tr>\n",
       "      <th>2</th>\n",
       "      <td>Regina</td>\n",
       "      <td>99</td>\n",
       "      <td>Female</td>\n",
       "      <td>24.75</td>\n",
       "    </tr>\n",
       "    <tr>\n",
       "      <th>0</th>\n",
       "      <td>Jaime</td>\n",
       "      <td>98</td>\n",
       "      <td>Male</td>\n",
       "      <td>24.50</td>\n",
       "    </tr>\n",
       "    <tr>\n",
       "      <th>4</th>\n",
       "      <td>Omar</td>\n",
       "      <td>90</td>\n",
       "      <td>Male</td>\n",
       "      <td>22.50</td>\n",
       "    </tr>\n",
       "    <tr>\n",
       "      <th>5</th>\n",
       "      <td>Dorothy</td>\n",
       "      <td>82</td>\n",
       "      <td>Female</td>\n",
       "      <td>20.50</td>\n",
       "    </tr>\n",
       "    <tr>\n",
       "      <th>6</th>\n",
       "      <td>Elle</td>\n",
       "      <td>54</td>\n",
       "      <td>Female</td>\n",
       "      <td>13.50</td>\n",
       "    </tr>\n",
       "  </tbody>\n",
       "</table>\n",
       "</div>"
      ],
      "text/plain": [
       "      Name  Marks  Gender  FourthPartofMark\n",
       "3   Renata    100  Female             25.00\n",
       "1   Rebeca     99  Female             24.75\n",
       "2   Regina     99  Female             24.75\n",
       "0    Jaime     98    Male             24.50\n",
       "4     Omar     90    Male             22.50\n",
       "5  Dorothy     82  Female             20.50\n",
       "6     Elle     54  Female             13.50"
      ]
     },
     "execution_count": 186,
     "metadata": {},
     "output_type": "execute_result"
    }
   ],
   "source": [
    "df1.sort_values(by=['Marks','Gender'],ascending=False)"
   ]
  }
 ],
 "metadata": {
  "kernelspec": {
   "display_name": "Python 3 (ipykernel)",
   "language": "python",
   "name": "python3"
  },
  "language_info": {
   "codemirror_mode": {
    "name": "ipython",
    "version": 3
   },
   "file_extension": ".py",
   "mimetype": "text/x-python",
   "name": "python",
   "nbconvert_exporter": "python",
   "pygments_lexer": "ipython3",
   "version": "3.12.4"
  }
 },
 "nbformat": 4,
 "nbformat_minor": 5
}
